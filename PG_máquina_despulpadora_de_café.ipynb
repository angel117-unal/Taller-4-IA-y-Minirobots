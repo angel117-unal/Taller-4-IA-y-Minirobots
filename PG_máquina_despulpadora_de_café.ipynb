{
  "nbformat": 4,
  "nbformat_minor": 0,
  "metadata": {
    "colab": {
      "provenance": []
    },
    "kernelspec": {
      "name": "python3",
      "display_name": "Python 3"
    },
    "language_info": {
      "name": "python"
    }
  },
  "cells": [
    {
      "cell_type": "code",
      "source": [
        "import numpy as np\n",
        "import random"
      ],
      "metadata": {
        "id": "ZAmj3mdF_nJP"
      },
      "execution_count": 1,
      "outputs": []
    },
    {
      "cell_type": "code",
      "source": [
        "import random\n",
        "\n",
        "# Definimos funciones primitivas para la PG\n",
        "def add(x, y): return x + y\n",
        "def sub(x, y): return x - y\n",
        "def mul(x, y): return x * y\n",
        "def div(x, y): return x / y if y != 0 else 1\n",
        "\n",
        "# Generamos una población inicial de árboles de fórmulas\n",
        "def generar_poblacion(tamano):\n",
        "    funciones = [add, sub, mul, div]\n",
        "    terminales = [\"peso\", \"granos\", 1, 2, 3]\n",
        "    poblacion = []\n",
        "    for _ in range(tamano):\n",
        "        arbol = [random.choice(funciones), random.choice(terminales), random.choice(terminales)]\n",
        "        poblacion.append(arbol)\n",
        "    return poblacion\n",
        "\n",
        "# Evaluamos una fórmula en un contexto\n",
        "def evaluar(arbol, contexto):\n",
        "    if isinstance(arbol, list) and callable(arbol[0]):  # Aseguramos que sea una lista con una función\n",
        "        return arbol[0](evaluar(arbol[1], contexto), evaluar(arbol[2], contexto))\n",
        "    else:  # Es un terminal\n",
        "        return contexto[arbol] if arbol in contexto else arbol\n",
        "\n",
        "# Fitness: qué tan bien una fórmula optimiza la velocidad\n",
        "def calcular_fitness(arbol, datos):\n",
        "    error_total = 0\n",
        "    for dato in datos:\n",
        "        prediccion = evaluar(arbol, dato)\n",
        "        error_total += abs(prediccion - dato[\"velocidad_ideal\"])\n",
        "    return 1 / (1 + error_total)\n",
        "\n",
        "# Evolucionamos la población\n",
        "def evolucionar(poblacion, datos, generaciones=10):\n",
        "    funciones = [add, sub, mul, div]\n",
        "    terminales = [\"peso\", \"granos\", 1, 2, 3]\n",
        "\n",
        "    for _ in range(generaciones):\n",
        "        fitness = [calcular_fitness(arbol, datos) for arbol in poblacion]\n",
        "        seleccionados = random.choices(poblacion, weights=fitness, k=len(poblacion))\n",
        "        nueva_poblacion = []\n",
        "\n",
        "        for i in range(0, len(seleccionados), 2):\n",
        "            # Cruzamiento\n",
        "            padre1, padre2 = seleccionados[i], seleccionados[i+1]\n",
        "            hijo1 = [padre1[0], padre2[1], padre1[2]]\n",
        "            hijo2 = [padre2[0], padre1[1], padre2[2]]\n",
        "            nueva_poblacion += [hijo1, hijo2]\n",
        "\n",
        "        # Mutación\n",
        "        for arbol in nueva_poblacion:\n",
        "            if random.random() < 0.1:  # Probabilidad de mutar\n",
        "                idx = random.randint(0, 2)  # Elegimos un índice para mutar\n",
        "                if idx == 0:  # Si es la función, mutamos la función\n",
        "                    arbol[idx] = random.choice(funciones)\n",
        "                else:  # Si es un terminal, mutamos el terminal\n",
        "                    arbol[idx] = random.choice(terminales)\n",
        "\n",
        "        poblacion = nueva_poblacion\n",
        "\n",
        "    return max(poblacion, key=lambda a: calcular_fitness(a, datos))\n",
        "\n",
        "# Ejemplo de datos de entrenamiento\n",
        "datos_entrenamiento = [\n",
        "    {\"peso\": 10, \"granos\": 5, \"velocidad_ideal\": 7},\n",
        "    {\"peso\": 20, \"granos\": 10, \"velocidad_ideal\": 15},\n",
        "    # Agrega más datos aquí\n",
        "]\n",
        "\n",
        "# Ejecución\n",
        "poblacion_inicial = generar_poblacion(10)\n",
        "mejor_solucion = evolucionar(poblacion_inicial, datos_entrenamiento)\n",
        "print(\"Mejor fórmula encontrada:\", mejor_solucion)\n"
      ],
      "metadata": {
        "colab": {
          "base_uri": "https://localhost:8080/"
        },
        "id": "yZgsulbwh0b2",
        "outputId": "f8f54aa0-1d1a-447c-bdbe-5becede0b183"
      },
      "execution_count": 4,
      "outputs": [
        {
          "output_type": "stream",
          "name": "stdout",
          "text": [
            "Mejor fórmula encontrada: [<function add at 0x7974fee63e20>, 2, 'granos']\n"
          ]
        }
      ]
    }
  ]
}